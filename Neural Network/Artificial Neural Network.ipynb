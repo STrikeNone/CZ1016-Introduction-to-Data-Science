{
 "cells": [
  {
   "cell_type": "markdown",
   "id": "seasonal-volume",
   "metadata": {},
   "source": [
    "# Artifical Neural Network  \n",
    "---"
   ]
  },
  {
   "cell_type": "markdown",
   "id": "compliant-tactics",
   "metadata": {},
   "source": [
    "## Lab Objective  \n",
    "  \n",
    "To understand the fundamentals of artificial neural network and its capabilities.  \n",
    "  \n",
    "The contents in this lab course:\n",
    "1. Limitations of linear model\n",
    "2. Introduction to artificial neural network\n",
    "3. Introduction to PyTorch\n",
    "4. Non-linear model\n",
    "  \n",
    "## Introduction  \n",
    "In our previous lab, we covered the mechanics of gradient descent and how to apply it to learn the coefficients for linear regression.  \n",
    "In this lab, we will be explaining the limitations of linear models and utilizing gradient descent to optimize and learn a type of non-linear models called artificial neural network.   \n",
    "\n",
    "---"
   ]
  },
  {
   "cell_type": "markdown",
   "id": "artistic-monthly",
   "metadata": {},
   "source": [
    "## Limitations of linear model\n",
    "Linear models are great for modelling the relationship between independent variables and dependent variables.  \n",
    "However, the usage of linear models requires a very strong assumption of a linear relationship between the independent variables and the dependent variable.  \n",
    "In cases where our assumption of linear relationship is false, naive application of linear model will not enable us to effectively predict the expected value of a dependent variable.  \n",
    "  \n",
    "Consider an example scenario where u have to pack <b>cube-shaped carton boxes</b> into a large <b>cube-shaped crate.</b>  \n",
    "For each shipment, there is variable $x_1$, $x_2$ that linearly determines the size for the sides $S(x_1, x_2)$ of the carton boxes.\n",
    "$$S(x_1, x_2) = a_1x_1 + a_2x_2 + b$$  \n",
    "With prior knowledge, we know that the volume of a cube is $x^3$ if the side of the cube is $x$.  \n",
    "Therefore, the number of crate needed to fit $n$ number of carton boxes is $\\frac{nx_{carton}^3}{x_{crate}^3}$.\n",
    "  \n",
    "  \n",
    "For the exercise below, let us assume we do not have prior knowledge and we are tasked to predict the <b>number of crates needed to store 100 carton boxes</b> given $x_1$, $x_2$ and a fixed size crate of <b>1 unit</b> on each side.\n",
    "Train a linear model $F(x_1, x_2)$ such that $F(x1, x2) \\approx \\frac{100S(x_1, x_2)^3}{1^3} = 100S(x_1, x_2)^3$\n",
    "\n",
    "<img src=\"img/carton-example.png\" width=\"600\">"
   ]
  },
  {
   "cell_type": "markdown",
   "id": "persistent-growth",
   "metadata": {},
   "source": [
    "Let us start by importing all the required packages for this lab. 😁"
   ]
  },
  {
   "cell_type": "code",
   "execution_count": 1,
   "id": "chicken-registrar",
   "metadata": {},
   "outputs": [],
   "source": [
    "import torch\n",
    "import pandas as pd\n",
    "import sklearn.linear_model\n",
    "import matplotlib.pyplot as plt\n",
    "import numpy as np"
   ]
  },
  {
   "cell_type": "markdown",
   "id": "genetic-disposition",
   "metadata": {},
   "source": [
    "Load the dataset."
   ]
  },
  {
   "cell_type": "code",
   "execution_count": 2,
   "id": "innocent-skating",
   "metadata": {},
   "outputs": [],
   "source": [
    "dataset = pd.read_csv('crate_example.csv')"
   ]
  },
  {
   "cell_type": "markdown",
   "id": "peripheral-picture",
   "metadata": {},
   "source": [
    "Checking the shape and dtype of the dataset."
   ]
  },
  {
   "cell_type": "code",
   "execution_count": 3,
   "id": "empirical-multimedia",
   "metadata": {},
   "outputs": [
    {
     "name": "stdout",
     "output_type": "stream",
     "text": [
      "<class 'pandas.core.frame.DataFrame'>\n",
      "RangeIndex: 1999 entries, 0 to 1998\n",
      "Data columns (total 5 columns):\n",
      " #   Column        Non-Null Count  Dtype  \n",
      "---  ------        --------------  -----  \n",
      " 0   X_1           1999 non-null   float64\n",
      " 1   X_2           1999 non-null   float64\n",
      " 2   Crate_Size    1999 non-null   float64\n",
      " 3   Carton_Count  1999 non-null   int64  \n",
      " 4   Crate_Count   1999 non-null   int64  \n",
      "dtypes: float64(3), int64(2)\n",
      "memory usage: 78.2 KB\n"
     ]
    }
   ],
   "source": [
    "dataset.info()"
   ]
  },
  {
   "cell_type": "markdown",
   "id": "inclusive-riding",
   "metadata": {},
   "source": [
    "Extract data rows where Crate_Size is 1 and Carton_Count is 100."
   ]
  },
  {
   "cell_type": "code",
   "execution_count": 4,
   "id": "placed-labor",
   "metadata": {},
   "outputs": [
    {
     "data": {
      "text/html": [
       "<div>\n",
       "<style scoped>\n",
       "    .dataframe tbody tr th:only-of-type {\n",
       "        vertical-align: middle;\n",
       "    }\n",
       "\n",
       "    .dataframe tbody tr th {\n",
       "        vertical-align: top;\n",
       "    }\n",
       "\n",
       "    .dataframe thead th {\n",
       "        text-align: right;\n",
       "    }\n",
       "</style>\n",
       "<table border=\"1\" class=\"dataframe\">\n",
       "  <thead>\n",
       "    <tr style=\"text-align: right;\">\n",
       "      <th></th>\n",
       "      <th>X_1</th>\n",
       "      <th>X_2</th>\n",
       "      <th>Crate_Size</th>\n",
       "      <th>Carton_Count</th>\n",
       "      <th>Crate_Count</th>\n",
       "    </tr>\n",
       "  </thead>\n",
       "  <tbody>\n",
       "    <tr>\n",
       "      <th>2</th>\n",
       "      <td>0.734962</td>\n",
       "      <td>0.764115</td>\n",
       "      <td>1.0</td>\n",
       "      <td>100</td>\n",
       "      <td>41</td>\n",
       "    </tr>\n",
       "    <tr>\n",
       "      <th>22</th>\n",
       "      <td>0.276701</td>\n",
       "      <td>0.522430</td>\n",
       "      <td>1.0</td>\n",
       "      <td>100</td>\n",
       "      <td>4</td>\n",
       "    </tr>\n",
       "    <tr>\n",
       "      <th>23</th>\n",
       "      <td>0.226746</td>\n",
       "      <td>0.643608</td>\n",
       "      <td>1.0</td>\n",
       "      <td>100</td>\n",
       "      <td>3</td>\n",
       "    </tr>\n",
       "    <tr>\n",
       "      <th>37</th>\n",
       "      <td>0.997268</td>\n",
       "      <td>0.720236</td>\n",
       "      <td>1.0</td>\n",
       "      <td>100</td>\n",
       "      <td>84</td>\n",
       "    </tr>\n",
       "    <tr>\n",
       "      <th>41</th>\n",
       "      <td>0.877842</td>\n",
       "      <td>0.770019</td>\n",
       "      <td>1.0</td>\n",
       "      <td>100</td>\n",
       "      <td>63</td>\n",
       "    </tr>\n",
       "    <tr>\n",
       "      <th>...</th>\n",
       "      <td>...</td>\n",
       "      <td>...</td>\n",
       "      <td>...</td>\n",
       "      <td>...</td>\n",
       "      <td>...</td>\n",
       "    </tr>\n",
       "    <tr>\n",
       "      <th>1941</th>\n",
       "      <td>0.455579</td>\n",
       "      <td>0.595635</td>\n",
       "      <td>1.0</td>\n",
       "      <td>100</td>\n",
       "      <td>12</td>\n",
       "    </tr>\n",
       "    <tr>\n",
       "      <th>1948</th>\n",
       "      <td>0.679031</td>\n",
       "      <td>0.136803</td>\n",
       "      <td>1.0</td>\n",
       "      <td>100</td>\n",
       "      <td>19</td>\n",
       "    </tr>\n",
       "    <tr>\n",
       "      <th>1963</th>\n",
       "      <td>0.719751</td>\n",
       "      <td>0.343072</td>\n",
       "      <td>1.0</td>\n",
       "      <td>100</td>\n",
       "      <td>27</td>\n",
       "    </tr>\n",
       "    <tr>\n",
       "      <th>1965</th>\n",
       "      <td>0.832171</td>\n",
       "      <td>0.051791</td>\n",
       "      <td>1.0</td>\n",
       "      <td>100</td>\n",
       "      <td>31</td>\n",
       "    </tr>\n",
       "    <tr>\n",
       "      <th>1980</th>\n",
       "      <td>0.478056</td>\n",
       "      <td>0.266509</td>\n",
       "      <td>1.0</td>\n",
       "      <td>100</td>\n",
       "      <td>9</td>\n",
       "    </tr>\n",
       "  </tbody>\n",
       "</table>\n",
       "<p>240 rows × 5 columns</p>\n",
       "</div>"
      ],
      "text/plain": [
       "           X_1       X_2  Crate_Size  Carton_Count  Crate_Count\n",
       "2     0.734962  0.764115         1.0           100           41\n",
       "22    0.276701  0.522430         1.0           100            4\n",
       "23    0.226746  0.643608         1.0           100            3\n",
       "37    0.997268  0.720236         1.0           100           84\n",
       "41    0.877842  0.770019         1.0           100           63\n",
       "...        ...       ...         ...           ...          ...\n",
       "1941  0.455579  0.595635         1.0           100           12\n",
       "1948  0.679031  0.136803         1.0           100           19\n",
       "1963  0.719751  0.343072         1.0           100           27\n",
       "1965  0.832171  0.051791         1.0           100           31\n",
       "1980  0.478056  0.266509         1.0           100            9\n",
       "\n",
       "[240 rows x 5 columns]"
      ]
     },
     "execution_count": 4,
     "metadata": {},
     "output_type": "execute_result"
    }
   ],
   "source": [
    "dataset = dataset[(dataset.Crate_Size==1) & (dataset.Carton_Count==100)]\n",
    "dataset"
   ]
  },
  {
   "cell_type": "markdown",
   "id": "scientific-consideration",
   "metadata": {},
   "source": [
    "Do a linear regression to predict **Crate_Count** using **X_1** and **X_2**."
   ]
  },
  {
   "cell_type": "code",
   "execution_count": 8,
   "id": "informative-wrong",
   "metadata": {},
   "outputs": [
    {
     "data": {
      "text/plain": [
       "LinearRegression()"
      ]
     },
     "execution_count": 8,
     "metadata": {},
     "output_type": "execute_result"
    }
   ],
   "source": [
    "# Fill in the code to do a linear regression\n",
    "from sklearn.linear_model import LinearRegression\n",
    "linreg = LinearRegression()\n",
    "linreg.fit(dataset[['X_1', 'X_2']], dataset['Crate_Count'])"
   ]
  },
  {
   "cell_type": "markdown",
   "id": "flush-concern",
   "metadata": {},
   "source": [
    "Check the $R^2$ of the linear model."
   ]
  },
  {
   "cell_type": "code",
   "execution_count": 17,
   "id": "synthetic-sewing",
   "metadata": {},
   "outputs": [
    {
     "data": {
      "text/plain": [
       "array([68.2849929 , 17.64339752])"
      ]
     },
     "execution_count": 17,
     "metadata": {},
     "output_type": "execute_result"
    }
   ],
   "source": [
    "# Fill in the code to calculate the R^2 of our trained model\n",
    "from sklearn.metrics import explained_variance_score\n",
    "linreg.score(dataset[['X_1', 'X_2']], dataset['Crate_Count'])\n",
    "linreg.coef_"
   ]
  },
  {
   "cell_type": "markdown",
   "id": "convertible-karma",
   "metadata": {},
   "source": [
    "## Improving the linear model"
   ]
  },
  {
   "cell_type": "markdown",
   "id": "determined-retro",
   "metadata": {},
   "source": [
    "Since we know that the function for calculating the number of crate boxes is a 3rd degree polynomial function, we can add a 2 new features **X_1POW3** representing ${X_1}^3$ and **X_2POW3** representing ${X_2}^3$."
   ]
  },
  {
   "cell_type": "code",
   "execution_count": 20,
   "id": "worse-custody",
   "metadata": {},
   "outputs": [],
   "source": [
    "# Fill in the code to create 2 new features/columns X_1POW3, X_2POW3\n",
    "dataset['X_1POW3'] = dataset.apply(lambda x:x.X_1 ** 3, axis=1)\n",
    "dataset['X_2POW3'] = dataset.apply(lambda x:x.X_2 ** 3, axis=1)"
   ]
  },
  {
   "cell_type": "code",
   "execution_count": 28,
   "id": "technical-cheat",
   "metadata": {},
   "outputs": [],
   "source": [
    "dataset['X_3POW3'] = dataset.apply(lambda x:x.X_2 ** 2 * x.X_1, axis=1)\n",
    "dataset['X_4POW3'] = dataset.apply(lambda x:x.X_1 ** 2 * x.X_2, axis=1)"
   ]
  },
  {
   "cell_type": "markdown",
   "id": "threaded-today",
   "metadata": {},
   "source": [
    "Do a linear regression to predict **Crate_Count** using **X_1POW3** and **X_2POW3**."
   ]
  },
  {
   "cell_type": "code",
   "execution_count": 29,
   "id": "close-vision",
   "metadata": {},
   "outputs": [
    {
     "data": {
      "text/plain": [
       "LinearRegression()"
      ]
     },
     "execution_count": 29,
     "metadata": {},
     "output_type": "execute_result"
    }
   ],
   "source": [
    "linreg = sklearn.linear_model.LinearRegression()\n",
    "linreg.fit(dataset[['X_1POW3', 'X_2POW3','X_3POW3', 'X_4POW3']], dataset['Crate_Count'])"
   ]
  },
  {
   "cell_type": "markdown",
   "id": "abstract-bracket",
   "metadata": {},
   "source": [
    "Check the $R^2$ of the linear model."
   ]
  },
  {
   "cell_type": "code",
   "execution_count": 30,
   "id": "streaming-artwork",
   "metadata": {},
   "outputs": [
    {
     "data": {
      "text/plain": [
       "0.9998236571350905"
      ]
     },
     "execution_count": 30,
     "metadata": {},
     "output_type": "execute_result"
    }
   ],
   "source": [
    "linreg.score(dataset[['X_1POW3', 'X_2POW3','X_3POW3','X_4POW3']], dataset['Crate_Count'])"
   ]
  },
  {
   "cell_type": "markdown",
   "id": "tender-issue",
   "metadata": {},
   "source": [
    "## Introduction to artificial neural network\n",
    "---"
   ]
  },
  {
   "cell_type": "markdown",
   "id": "actual-hobby",
   "metadata": {},
   "source": [
    "As visualized from our exercise above, we are able to leverage on our prior knowledge that the function is a 3rd degree polynomial function to engineer features **X_1POW3** and **X_2POW3** and train a better model.  \n",
    "  \n",
    "However, what happens if we are unable to identify the non-linearity of our data? What if we engineered $X\\_1POW3={X_1}^{-3}$ and $X\\_2POW3={X_2}^{-3}$ for our linear model?  \n",
    "  \n",
    "This leads to a general question of whether it is possible to learn the non-linearity just as we have learnt the relationship of between dependent variable and independent variables in linear regression.  \n",
    "  \n",
    "By using artificial neural network, we are able to train a non-linear model that approximates both the non-linearity and relationship between dependent variable and independent variables."
   ]
  },
  {
   "cell_type": "markdown",
   "id": "supported-ivory",
   "metadata": {},
   "source": [
    "### Artificial neural network\n",
    "Artificial neural network is a non-linear model that can be used to approximate any continuous function.\n",
    "It works by stacking layers of linear functions with a non-linearity between each layer. Each filled circle in the image below represents a linear function.  \n",
    "![Universal Function Approximator](img/ann-universal.png)\n",
    "By doing so, each successive layer in a neural network is able to compose a linear combination of <b>non-linear functions (neurons)</b> producing a richer expression that can better approximate the target function. In fact, it has been proven by many researchers that an artificial neural network with a single non-linear hidden layer is sufficient to approximate any continuous function of $n$ variables. Some of the more common non-linear functions used in modern neural networks are listed below:\n",
    "![Sigmoid](img/sigmoid.png)\n",
    "$$\\sigma_{sigmoid}(x)=\\frac{1}{1+e^{-x}}$$\n",
    "![Tanh](img/tanh.png)\n",
    "$$\\sigma_{tanh}(x)=\\frac{e^x-e^{-x}}{e^x+e^{-x}}$$\n",
    "![Relu](img/relu.png)\n",
    "$$\n",
    "\\sigma_{relu}(x) = \\left\\{ \\begin{array}{rl}\n",
    "0 &\\mbox{ if $x<0$} \\\\\n",
    "x &\\mbox{ otherwise}\n",
    "\\end{array} \\right.\n",
    "$$  \n",
    "  \n",
    "  \n",
    "In mathematical formulation a simple 2-layer neural network can be expressed as the formula below, where $X$ is a row vector of data features, $A_1$ is a matrix of coefficients for the first layer, $B_1$ is a row vector of biases for the first layer, $A_2$ is a matrix of coefficients for the second layer, $B_2$ is a row vector of biases for the second layer, $\\sigma$ represents our non-linearity function and $F_{neural}$ represents our 2-layer neural network model.\n",
    "$$X=\\begin{bmatrix}x_1 & x_2 & ... & x_n\\end{bmatrix}$$  \n",
    "\n",
    "$$A_1=\\begin{bmatrix}a_{1_1^1} & a_{1_2^1} & ... & a_{1_k^1} \\\\ .&.&...&. \\\\ a_{1_1^n} & a_{1_2^n} & ... & a_{1_k^n}\\end{bmatrix}$$  \n",
    "\n",
    "$$B_1=\\begin{bmatrix}b_1 & b_2 & ... & b_k\\end{bmatrix}$$  \n",
    "  \n",
    "$$A_2=\\begin{bmatrix}a_{2_1^1} & a_{2_2^1} & ... & a_{2_r^1} \\\\ .&.&...&. \\\\ a_{2_1^k} & a_{2_2^k} & ... & a_{2_r^k}\\end{bmatrix}$$  \n",
    "\n",
    "$$B_2=\\begin{bmatrix}b_1 & b_2 & ... & b_r\\end{bmatrix}$$  \n",
    "\n",
    "$$\\sigma(\\begin{bmatrix}q_1 & q_2 & ... & q_k\\end{bmatrix})=\\begin{bmatrix}\\sigma(q_1) & \\sigma(q_2) & ... & \\sigma(q_k)\\end{bmatrix}$$\n",
    "\n",
    "$$F_{neural}(x)=\\sigma(XA_1+B_1)A_2 + B_2$$"
   ]
  },
  {
   "cell_type": "markdown",
   "id": "promotional-sampling",
   "metadata": {},
   "source": [
    "#### Universal function approximator\n",
    "That is a lengthy mathematical formulation, but how can a linear combination of non-linear layer approximate any continuous function?  \n",
    "To answer this question, let us make use of $\\sigma_{relu}$ non-linearity for our explanations below.  \n",
    "  \n",
    "Let us first define our target function to be $y=sin(x)$.\n",
    "![sin(x)](img/sinx-break.png)\n",
    "One way we can visualize how a neural network with $\\sigma_{relu}$ as its non-linearity can approximate a target function is to break down the domain of the function we want to approximate into smaller pieces.  \n",
    "  \n",
    "Using the piecewise non-linearity characteristic of $\\sigma_{relu}$, we can first define the formula below to get an approximate function as depicted below in the blue line below. \n",
    "  \n",
    "$$F_{neural}(x)=\\frac{2\\left(\\sin\\left(\\frac{\\pi}{2}\\right)-\\sin\\left(0\\right)\\right)}{\\pi}\\sigma_{relu}(x)-\\frac{2\\left(\\sin\\left(\\frac{\\pi}{2}\\right)-\\sin\\left(0\\right)\\right)}{\\pi}\\sigma_{relu}(x-\\frac{\\pi}{2})+\\frac{\\left(\\sin\\left(\\frac{3\\pi}{2}\\right)-\\sin\\left(\\frac{\\pi}{2}\\right)\\right)}{\\pi}\\sigma_{relu}(x-\\frac{\\pi}{2})-\\frac{\\left(\\sin\\left(\\frac{3\\pi}{2}\\right)-\\sin\\left(\\frac{\\pi}{2}\\right)\\right)}{\\pi}\\sigma_{relu}(x-\\frac{3\\pi}{2})+\\frac{2\\left(\\sin\\left(2\\pi\\right)-\\sin\\left(\\frac{3\\pi}{2}\\right)\\right)}{\\pi}\\sigma_{relu}(x-\\frac{3\\pi}{2})$$  \n",
    "Using a linear combination of 5 neurons from the hidden layer, we are able to obtain a rough approximation $sin(x)$ as depicted below.\n",
    "![sin(x)](img/sinx-approx-1.png)  \n",
    "By increasing the increasing the number of neurons from the hidden layer we can even achieve better approximation.  \n",
    "Let us see how $F_{neural}(x)$ with 15 neurons from the hidden layer provide better approximation for our target function.  \n",
    "  \n",
    "$$y=\\frac{4\\left(\\sin\\left(\\frac{\\pi}{4}\\right)-\\sin\\left(0\\right)\\right)}{\\pi}\\sigma_{relu}(x)-\\frac{4\\left(\\sin\\left(\\frac{\\pi}{4}\\right)-\\sin\\left(0\\right)\\right)}{\\pi}\\sigma_{relu}(x-\\frac{\\pi}{4})+\\frac{4\\left(\\sin\\left(\\frac{\\pi}{2}\\right)-\\sin\\left(\\frac{\\pi}{4}\\right)\\right)}{\\pi}\\sigma_{relu}(x-\\frac{\\pi}{4})-\\frac{4\\left(\\sin\\left(\\frac{\\pi}{2}\\right)-\\sin\\left(\\frac{\\pi}{4}\\right)\\right)}{\\pi}\\sigma_{relu}(x-\\frac{\\pi}{2})+\\frac{4\\left(\\sin\\left(\\frac{3\\pi}{4}\\right)-\\sin\\left(\\frac{\\pi}{2}\\right)\\right)}{\\pi}\\sigma_{relu}(x-\\frac{\\pi}{2})-\\frac{4\\left(\\sin\\left(\\frac{3\\pi}{4}\\right)-\\sin\\left(\\frac{\\pi}{2}\\right)\\right)}{\\pi}\\sigma_{relu}(x-\\frac{3\\pi}{4})+\\frac{4\\left(\\sin\\left(\\pi\\right)-\\sin\\left(\\frac{3\\pi}{4}\\right)\\right)}{\\pi}\\sigma_{relu}(x-\\frac{3\\pi}{4})\\frac{3\\pi}{4}-\\frac{4\\left(\\sin\\left(\\pi\\right)-\\sin\\left(\\frac{3\\pi}{4}\\right)\\right)}{\\pi}\\sigma_{relu}(x-\\pi)+\\frac{4\\left(\\sin\\left(\\frac{5\\pi}{4}\\right)-\\sin\\left(\\pi\\right)\\right)}{\\pi}\\sigma_{relu}(x-\\pi)-\\frac{4\\left(\\sin\\left(\\frac{5\\pi}{4}\\right)-\\sin\\left(\\pi\\right)\\right)}{\\pi}\\sigma_{relu}(x-\\frac{5\\pi}{4})+\\frac{4\\left(\\sin\\left(\\frac{3\\pi}{2}\\right)-\\sin\\left(\\frac{5\\pi}{4}\\right)\\right)}{\\pi}\\sigma_{relu}(x-\\frac{5\\pi}{4})-\\frac{4\\left(\\sin\\left(\\frac{3\\pi}{2}\\right)-\\sin\\left(\\frac{5\\pi}{4}\\right)\\right)}{\\pi}\\sigma_{relu}(x-\\frac{3\\pi}{2})+\\frac{4\\left(\\sin\\left(\\frac{7\\pi}{4}\\right)-\\sin\\left(\\frac{3\\pi}{2}\\right)\\right)}{\\pi}\\sigma_{relu}(x-\\frac{3\\pi}{2})-\\frac{4\\left(\\sin\\left(\\frac{7\\pi}{4}\\right)-\\sin\\left(\\frac{3\\pi}{2}\\right)\\right)}{\\pi}\\sigma_{relu}(x-\\frac{7\\pi}{4})+\\frac{4\\left(\\sin\\left(2\\pi\\right)-\\sin\\left(\\frac{7\\pi}{4}\\right)\\right)}{\\pi}\\sigma_{relu}(x-\\frac{7\\pi}{4})$$\n",
    "![sin(x)](img/sinx-approx-2.png)  \n",
    "  \n",
    "**Think**  \n",
    "Why would an artificial neural network need non-linear function between each layer? Would it still be able to approximate non-linear functions using a composition of linear function?"
   ]
  },
  {
   "cell_type": "markdown",
   "id": "standing-young",
   "metadata": {},
   "source": [
    "## Introduction to PyTorch  \n",
    "---  \n",
    "  \n",
    "Similar to the training of a linear model, the training of an artificial neural network can make use of gradient descent to search for the optimal parameter coefficient and biases for artificial neural network.\n",
    "However, the manual calculation of gradient approach we adopted for our linear model optimization is not going to be practical for artificial neural network as the number of parameters to be optimized is far more than that of a linear model and the calculation of the gradient of the loss function with respect to the parameters is also more complex as depth increases.  \n",
    "  \n",
    "<b>PyTorch</b> is an open-sourced framework developed to reduce the burden of deep learning researchers by eliminating the need of manual calculation of gradients. In addition to the above mentioned advantage, PyTorch also supports using hardware accelerators to accelerate the calculation of large matrix multiplication and automates parallel processing of data."
   ]
  },
  {
   "cell_type": "markdown",
   "id": "knowing-tournament",
   "metadata": {},
   "source": [
    "### Model Definition"
   ]
  },
  {
   "cell_type": "markdown",
   "id": "sustainable-charlotte",
   "metadata": {},
   "source": [
    "Let us define our first PyTorch model with 1 hidden layer with 64 neurons and ReLU non-linear activation function."
   ]
  },
  {
   "cell_type": "code",
   "execution_count": 73,
   "id": "obvious-territory",
   "metadata": {},
   "outputs": [
    {
     "data": {
      "text/plain": [
       "Sequential(\n",
       "  (0): Linear(in_features=2, out_features=64, bias=True)\n",
       "  (1): ReLU()\n",
       "  (2): Linear(in_features=64, out_features=1, bias=True)\n",
       ")"
      ]
     },
     "execution_count": 73,
     "metadata": {},
     "output_type": "execute_result"
    }
   ],
   "source": [
    "my_model = torch.nn.Sequential(\n",
    "    torch.nn.Linear(in_features=2, out_features=64),\n",
    "    torch.nn.ReLU(),\n",
    "    torch.nn.Linear(in_features=64, out_features=1)\n",
    ")\n",
    "my_model"
   ]
  },
  {
   "cell_type": "markdown",
   "id": "falling-highlight",
   "metadata": {},
   "source": [
    "### Creating SGD optimizer"
   ]
  },
  {
   "cell_type": "markdown",
   "id": "ready-victoria",
   "metadata": {},
   "source": [
    "Let us define a gradient descent optimizer to update our parameters iteratively."
   ]
  },
  {
   "cell_type": "code",
   "execution_count": 74,
   "id": "german-witch",
   "metadata": {},
   "outputs": [],
   "source": [
    "optimizer = torch.optim.SGD(my_model.parameters(), lr=0.005)"
   ]
  },
  {
   "cell_type": "markdown",
   "id": "atlantic-testament",
   "metadata": {},
   "source": [
    "### Defining our loss function  \n",
    "Our loss function in this case would be the mean square error."
   ]
  },
  {
   "cell_type": "code",
   "execution_count": 75,
   "id": "mathematical-concert",
   "metadata": {},
   "outputs": [],
   "source": [
    "loss_function = torch.nn.MSELoss()"
   ]
  },
  {
   "cell_type": "markdown",
   "id": "freelance-calibration",
   "metadata": {},
   "source": [
    "### Update our model parameters  \n",
    "Execute the code cell below to perform a single step of gradient descent"
   ]
  },
  {
   "cell_type": "code",
   "execution_count": 76,
   "id": "further-carolina",
   "metadata": {},
   "outputs": [],
   "source": [
    "optimizer.zero_grad() # Zero out gradients for all the parameters in our model\n",
    "\n",
    "predictors = torch.tensor(dataset[['X_1', 'X_2']].to_numpy(), dtype=torch.float32) # Convert Matrix to Pytorch datatype\n",
    "ground_truth = torch.tensor(dataset[['Crate_Count']].to_numpy(), dtype=torch.float32) # Converting Response variable also\n",
    "\n",
    "prediction = my_model(predictors)\n",
    "loss_value = loss_function(prediction, ground_truth)\n",
    "\n",
    "loss_value.backward() # Calculate the gradients for you\n",
    "optimizer.step() # Update the model parameters"
   ]
  },
  {
   "cell_type": "markdown",
   "id": "contained-spanking",
   "metadata": {},
   "source": [
    "Check that our loss is reducing."
   ]
  },
  {
   "cell_type": "code",
   "execution_count": 77,
   "id": "eastern-renewal",
   "metadata": {},
   "outputs": [
    {
     "name": "stdout",
     "output_type": "stream",
     "text": [
      "Initial Loss Value: 970.2333984375, Updated Loss Value: 880.2028198242188\n"
     ]
    }
   ],
   "source": [
    "old_loss_value = loss_value\n",
    "prediction = my_model(predictors)\n",
    "loss_value = loss_function(prediction, ground_truth)\n",
    "\n",
    "print(f'Initial Loss Value: {old_loss_value}, Updated Loss Value: {loss_value}')\n",
    "\n",
    "# Reduce learning rate if updated loss is more than initial loss"
   ]
  },
  {
   "cell_type": "markdown",
   "id": "brazilian-science",
   "metadata": {},
   "source": [
    "Repeatedly update our model parameters for 500 steps."
   ]
  },
  {
   "cell_type": "code",
   "execution_count": 78,
   "id": "square-majority",
   "metadata": {
    "scrolled": false
   },
   "outputs": [
    {
     "data": {
      "text/plain": [
       "[<matplotlib.lines.Line2D at 0x152974be9160>]"
      ]
     },
     "execution_count": 78,
     "metadata": {},
     "output_type": "execute_result"
    },
    {
     "data": {
      "image/png": "[encoded data removed]",
      "text/plain": [
       "<Figure size 432x288 with 1 Axes>"
      ]
     },
     "metadata": {
      "needs_background": "light"
     },
     "output_type": "display_data"
    }
   ],
   "source": [
    "batch_size = 100\n",
    "loss_values = []\n",
    "X_train = torch.tensor(dataset[['X_1', 'X_2']].to_numpy(), dtype=torch.float32)\n",
    "y_train = torch.tensor(dataset[['Crate_Count']].to_numpy(), dtype=torch.float32)\n",
    "for idx in range(100):\n",
    "    shuffled_indices = torch.randperm(X_train.shape[0])\n",
    "    \n",
    "    for idx in range(0, X_train.shape[0], batch_size):\n",
    "        batch_indices = shuffled_indices[idx : idx + batch_size]\n",
    "        predictors = X_train[batch_indices]\n",
    "        ground_truth = y_train[batch_indices]\n",
    "        \n",
    "        optimizer.zero_grad() # Zero out gradients for all the parameters in our model\n",
    "\n",
    "        prediction = my_model(predictors)\n",
    "        loss_value = loss_function(prediction, ground_truth)\n",
    "\n",
    "        loss_value.backward() # Calculate the gradients\n",
    "        optimizer.step() # Update the model parameters\n",
    "    \n",
    "    with torch.no_grad():\n",
    "        updated_loss_value = loss_function(my_model(predictors), ground_truth) # Calculate updated loss value\n",
    "        loss_values.append(updated_loss_value)\n",
    "        \n",
    "plt.plot(np.arange(100), loss_values)"
   ]
  },
  {
   "cell_type": "markdown",
   "id": "patent-winner",
   "metadata": {},
   "source": [
    "Check the $R^2$ of the linear model."
   ]
  },
  {
   "cell_type": "code",
   "execution_count": 79,
   "id": "fatty-klein",
   "metadata": {},
   "outputs": [
    {
     "data": {
      "text/plain": [
       "0.9938615011546952"
      ]
     },
     "execution_count": 79,
     "metadata": {},
     "output_type": "execute_result"
    }
   ],
   "source": [
    "sklearn.metrics.r2_score(dataset['Crate_Count'], my_model(X_train).detach())"
   ]
  },
  {
   "cell_type": "markdown",
   "id": "happy-petersburg",
   "metadata": {},
   "source": [
    "**Try it out**  \n",
    "1. Try to change the number of neurons and see visualize the difference in our model approximation\n",
    "2. Try to approximate a different target function\n",
    "3. Ask questions!"
   ]
  },
  {
   "cell_type": "markdown",
   "id": "electoral-brake",
   "metadata": {},
   "source": [
    "## Completion\n",
    "Congratulations on completing this lab session.  \n",
    "With the knowledge and intuition gained from this lab session we are ready to move on to our challenge!"
   ]
  }
 ],
 "metadata": {
  "kernelspec": {
   "display_name": "Python 3",
   "language": "python",
   "name": "python3"
  },
  "language_info": {
   "codemirror_mode": {
    "name": "ipython",
    "version": 3
   },
   "file_extension": ".py",
   "mimetype": "text/x-python",
   "name": "python",
   "nbconvert_exporter": "python",
   "pygments_lexer": "ipython3",
   "version": "3.8.5"
  }
 },
 "nbformat": 4,
 "nbformat_minor": 5
}
